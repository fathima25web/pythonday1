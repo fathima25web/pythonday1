{
 "cells": [
  {
   "cell_type": "code",
   "execution_count": 1,
   "id": "708f4cb3-fd73-43c5-a274-c122f69a7f3c",
   "metadata": {},
   "outputs": [
    {
     "name": "stdout",
     "output_type": "stream",
     "text": [
      "hi sir\n"
     ]
    }
   ],
   "source": [
    "print(\"hi sir\")"
   ]
  },
  {
   "cell_type": "code",
   "execution_count": 2,
   "id": "0d729cb6-573a-4ad6-ac4e-30f7bf1b8be2",
   "metadata": {},
   "outputs": [
    {
     "name": "stdout",
     "output_type": "stream",
     "text": [
      "python day1 of batch 87\n"
     ]
    }
   ],
   "source": [
    "print(\"python day1 of batch 87\")"
   ]
  },
  {
   "cell_type": "code",
   "execution_count": null,
   "id": "cd751bc8-1c97-42ce-8309-eea359a8855a",
   "metadata": {},
   "outputs": [],
   "source": []
  }
 ],
 "metadata": {
  "kernelspec": {
   "display_name": "Python 3 (ipykernel)",
   "language": "python",
   "name": "python3"
  },
  "language_info": {
   "codemirror_mode": {
    "name": "ipython",
    "version": 3
   },
   "file_extension": ".py",
   "mimetype": "text/x-python",
   "name": "python",
   "nbconvert_exporter": "python",
   "pygments_lexer": "ipython3",
   "version": "3.13.5"
  }
 },
 "nbformat": 4,
 "nbformat_minor": 5
}
